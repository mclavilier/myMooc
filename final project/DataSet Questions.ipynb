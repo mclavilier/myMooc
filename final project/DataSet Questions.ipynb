{
 "cells": [
  {
   "cell_type": "markdown",
   "metadata": {},
   "source": [
    "# Enron Dataset Project\n",
    "\n",
    "In this file, will be all the quizz and exercices for the last Udacity project.\n",
    "\n",
    "### Purpose:\n",
    "The project is an analysis of Enron case. Enron is an American Energy company that collapse to bankruptcy in 2001 (cf; Wikipedia). Thanks to the federal investigation, a large amount of confidential documents are now publics, which allow us to perform a deep machine learning investigation.\n",
    "The target of this machine learning investigation is to predict, based on email and financial material, who are the instigator, at list person of interest, in this financial bankruptcy.\n",
    "\n",
    "\n"
   ]
  },
  {
   "cell_type": "markdown",
   "metadata": {},
   "source": [
    "### Ressources\n",
    "a text file is provided aside this notebook. \n",
    "The main ressources are : \n",
    "-\tPython 2.7\n",
    "-\tJupyter notebook\n",
    "-\tWikipedia\n",
    "-\tStackoverflow.com\n",
    "-\tGeekforGeeks.com\n",
    "-\tUdacity\n",
    "\n"
   ]
  },
  {
   "cell_type": "markdown",
   "metadata": {},
   "source": [
    "## Data Exploration\n",
    "\n",
    "### Project Objectives:\n",
    "\n",
    "<I>(Summarize for us the goal of this project and how machine learning is useful in trying to accomplish it. As part of your answer, give some background on the dataset and how it can be used to answer the project question. Were there any outliers in the data when you got it, and how did you handle those? [relevant rubric items: “data exploration”, “outlier investigation”]).\n",
    "</I>\n",
    "\n",
    "\n",
    "The pedagogic or learning objectives of this project are multiple. Indeed, part of the overall process, it’s a full use case of data analysis work. A huge dataset that need to be explored which imply understanding the data, check for data quality.\n",
    "\n",
    "The finality of this project in term of concrete result is to use machine learning to predict who could have been a Person Of Interest in this affair, meaning who could be part of this massive fraud. To do so, the process will be based on the emails and financial information analysis.\n",
    "\n",
    "\n",
    "In order to analyse this dataset, first have a look at different attributes and characteristics.\n",
    "-\tHow many people in the dataset\n",
    "-\tRecord definition\n",
    "-\tList of people\n",
    "-\tWhat are the information (category) \n"
   ]
  },
  {
   "cell_type": "markdown",
   "metadata": {},
   "source": [
    "## Investigate into the dataset\n",
    "\n",
    "In the comming line, I investigate into the data set in order to understand which data I can work with."
   ]
  },
  {
   "cell_type": "code",
   "execution_count": 12,
   "metadata": {
    "collapsed": false
   },
   "outputs": [
    {
     "name": "stdout",
     "output_type": "stream",
     "text": [
      "Number of People in Dataset:  146\n"
     ]
    }
   ],
   "source": [
    "#!/usr/bin/python\n",
    "\n",
    "\"\"\" \n",
    "    Starter code for exploring the Enron dataset (emails + finances);\n",
    "    loads up the dataset (pickled dict of dicts).\n",
    "\n",
    "    The dataset has the form:\n",
    "    enron_data[\"LASTNAME FIRSTNAME MIDDLEINITIAL\"] = { features_dict }\n",
    "\n",
    "    {features_dict} is a dictionary of features associated with that person.\n",
    "    You should explore features_dict as part of the mini-project,\n",
    "    but here's an example to get you started:\n",
    "\n",
    "    enron_data[\"SKILLING JEFFREY K\"][\"bonus\"] = 5600000\n",
    "    \n",
    "\"\"\"\n",
    "\n",
    "import pickle\n",
    "\n",
    "enron_data = pickle.load(open(\"../final_project/final_project_dataset.pkl\", \"rb\"))\n",
    "\n",
    "print 'Number of People in Dataset: ', len(enron_data)\n",
    "\n"
   ]
  },
  {
   "cell_type": "code",
   "execution_count": 13,
   "metadata": {
    "collapsed": false
   },
   "outputs": [
    {
     "name": "stdout",
     "output_type": "stream",
     "text": [
      "Here is a one record sample:  ('METTS MARK', '=>', {'salary': 365788, 'to_messages': 807, 'deferral_payments': 'NaN', 'total_payments': 1061827, 'exercised_stock_options': 'NaN', 'bonus': 600000, 'restricted_stock': 585062, 'shared_receipt_with_poi': 702, 'restricted_stock_deferred': 'NaN', 'total_stock_value': 585062, 'expenses': 94299, 'loan_advances': 'NaN', 'from_messages': 29, 'other': 1740, 'from_this_person_to_poi': 1, 'poi': False, 'director_fees': 'NaN', 'deferred_income': 'NaN', 'long_term_incentive': 'NaN', 'email_address': 'mark.metts@enron.com', 'from_poi_to_this_person': 38})\n",
      "Number of People in Dataset:  146\n"
     ]
    }
   ],
   "source": [
    "### Another method using loop\n",
    "\n",
    "l_counter = 0\n",
    "l_counter_cat = 0\n",
    "l_tot = 0\n",
    "for keys in enron_data: \n",
    "        if l_counter == 0:\n",
    "            print 'Here is a one record sample: ', (keys, '=>', enron_data[keys])\n",
    "        l_counter = l_counter + 1\n",
    "\n",
    "print 'Number of People in Dataset: ', l_counter "
   ]
  },
  {
   "cell_type": "markdown",
   "metadata": {},
   "source": [
    "<B> Who are these person ?"
   ]
  },
  {
   "cell_type": "code",
   "execution_count": 14,
   "metadata": {
    "collapsed": false
   },
   "outputs": [
    {
     "name": "stdout",
     "output_type": "stream",
     "text": [
      "Sorted list of Enron employees by last name\n",
      "['ALLEN PHILLIP K',\n",
      " 'BADUM JAMES P',\n",
      " 'BANNANTINE JAMES M',\n",
      " 'BAXTER JOHN C',\n",
      " 'BAY FRANKLIN R',\n",
      " 'BAZELIDES PHILIP J',\n",
      " 'BECK SALLY W',\n",
      " 'BELDEN TIMOTHY N',\n",
      " 'BELFER ROBERT',\n",
      " 'BERBERIAN DAVID',\n",
      " 'BERGSIEKER RICHARD P',\n",
      " 'BHATNAGAR SANJAY',\n",
      " 'BIBI PHILIPPE A',\n",
      " 'BLACHMAN JEREMY M',\n",
      " 'BLAKE JR. NORMAN P',\n",
      " 'BOWEN JR RAYMOND M',\n",
      " 'BROWN MICHAEL',\n",
      " 'BUCHANAN HAROLD G',\n",
      " 'BUTTS ROBERT H',\n",
      " 'BUY RICHARD B',\n",
      " 'CALGER CHRISTOPHER F',\n",
      " 'CARTER REBECCA C',\n",
      " 'CAUSEY RICHARD A',\n",
      " 'CHAN RONNIE',\n",
      " 'CHRISTODOULOU DIOMEDES',\n",
      " 'CLINE KENNETH W',\n",
      " 'COLWELL WESLEY',\n",
      " 'CORDES WILLIAM R',\n",
      " 'COX DAVID',\n",
      " 'CUMBERLAND MICHAEL S',\n",
      " 'DEFFNER JOSEPH M',\n",
      " 'DELAINEY DAVID W',\n",
      " 'DERRICK JR. JAMES V',\n",
      " 'DETMERING TIMOTHY J',\n",
      " 'DIETRICH JANET R',\n",
      " 'DIMICHELE RICHARD G',\n",
      " 'DODSON KEITH',\n",
      " 'DONAHUE JR JEFFREY M',\n",
      " 'DUNCAN JOHN H',\n",
      " 'DURAN WILLIAM D',\n",
      " 'ECHOLS JOHN B',\n",
      " 'ELLIOTT STEVEN',\n",
      " 'FALLON JAMES B',\n",
      " 'FASTOW ANDREW S',\n",
      " 'FITZGERALD JAY L',\n",
      " 'FOWLER PEGGY',\n",
      " 'FOY JOE',\n",
      " 'FREVERT MARK A',\n",
      " 'FUGH JOHN L',\n",
      " 'GAHN ROBERT S',\n",
      " 'GARLAND C KEVIN',\n",
      " 'GATHMANN WILLIAM D',\n",
      " 'GIBBS DANA R',\n",
      " 'GILLIS JOHN',\n",
      " 'GLISAN JR BEN F',\n",
      " 'GOLD JOSEPH',\n",
      " 'GRAMM WENDY L',\n",
      " 'GRAY RODNEY',\n",
      " 'HAEDICKE MARK E',\n",
      " 'HANNON KEVIN P',\n",
      " 'HAUG DAVID L',\n",
      " 'HAYES ROBERT E',\n",
      " 'HAYSLETT RODERICK J',\n",
      " 'HERMANN ROBERT J',\n",
      " 'HICKERSON GARY J',\n",
      " 'HIRKO JOSEPH',\n",
      " 'HORTON STANLEY C',\n",
      " 'HUGHES JAMES A',\n",
      " 'HUMPHREY GENE E',\n",
      " 'IZZO LAWRENCE L',\n",
      " 'JACKSON CHARLENE R',\n",
      " 'JAEDICKE ROBERT',\n",
      " 'KAMINSKI WINCENTY J',\n",
      " 'KEAN STEVEN J',\n",
      " 'KISHKILL JOSEPH G',\n",
      " 'KITCHEN LOUISE',\n",
      " 'KOENIG MARK E',\n",
      " 'KOPPER MICHAEL J',\n",
      " 'LAVORATO JOHN J',\n",
      " 'LAY KENNETH L',\n",
      " 'LEFF DANIEL P',\n",
      " 'LEMAISTRE CHARLES',\n",
      " 'LEWIS RICHARD',\n",
      " 'LINDHOLM TOD A',\n",
      " 'LOCKHART EUGENE E',\n",
      " 'LOWRY CHARLES P',\n",
      " 'MARTIN AMANDA K',\n",
      " 'MCCARTY DANNY J',\n",
      " 'MCCLELLAN GEORGE',\n",
      " 'MCCONNELL MICHAEL S',\n",
      " 'MCDONALD REBECCA',\n",
      " 'MCMAHON JEFFREY',\n",
      " 'MENDELSOHN JOHN',\n",
      " 'METTS MARK',\n",
      " 'MEYER JEROME J',\n",
      " 'MEYER ROCKFORD G',\n",
      " 'MORAN MICHAEL P',\n",
      " 'MORDAUNT KRISTINA M',\n",
      " 'MULLER MARK S',\n",
      " 'MURRAY JULIA H',\n",
      " 'NOLES JAMES L',\n",
      " 'OLSON CINDY K',\n",
      " 'OVERDYKE JR JERE C',\n",
      " 'PAI LOU L',\n",
      " 'PEREIRA PAULO V. FERRAZ',\n",
      " 'PICKERING MARK R',\n",
      " 'PIPER GREGORY F',\n",
      " 'PIRO JIM',\n",
      " 'POWERS WILLIAM',\n",
      " 'PRENTICE JAMES',\n",
      " 'REDMOND BRIAN L',\n",
      " 'REYNOLDS LAWRENCE',\n",
      " 'RICE KENNETH D',\n",
      " 'RIEKER PAULA H',\n",
      " 'SAVAGE FRANK',\n",
      " 'SCRIMSHAW MATTHEW',\n",
      " 'SHANKMAN JEFFREY A',\n",
      " 'SHAPIRO RICHARD S',\n",
      " 'SHARP VICTORIA T',\n",
      " 'SHELBY REX',\n",
      " 'SHERRICK JEFFREY B',\n",
      " 'SHERRIFF JOHN R',\n",
      " 'SKILLING JEFFREY K',\n",
      " 'STABLER FRANK',\n",
      " 'SULLIVAN-SHAKLOVITZ COLLEEN',\n",
      " 'SUNDE MARTIN',\n",
      " 'TAYLOR MITCHELL S',\n",
      " 'THE TRAVEL AGENCY IN THE PARK',\n",
      " 'THORN TERENCE H',\n",
      " 'TILNEY ELIZABETH A',\n",
      " 'TOTAL',\n",
      " 'UMANOFF ADAM S',\n",
      " 'URQUHART JOHN A',\n",
      " 'WAKEHAM JOHN',\n",
      " 'WALLS JR ROBERT H',\n",
      " 'WALTERS GARETH W',\n",
      " 'WASAFF GEORGE',\n",
      " 'WESTFAHL RICHARD K',\n",
      " 'WHALEY DAVID A',\n",
      " 'WHALLEY LAWRENCE G',\n",
      " 'WHITE JR THOMAS E',\n",
      " 'WINOKUR JR. HERBERT S',\n",
      " 'WODRASKA JOHN',\n",
      " 'WROBEL BRUCE',\n",
      " 'YEAGER F SCOTT',\n",
      " 'YEAP SOON']\n"
     ]
    }
   ],
   "source": [
    "import pprint\n",
    "\n",
    "pretty = pprint.PrettyPrinter()\n",
    "names = sorted(enron_data.keys())  #sort names of Enron employees in dataset by first letter of last name\n",
    "\n",
    "print 'Sorted list of Enron employees by last name'\n",
    "pretty.pprint(names) "
   ]
  },
  {
   "cell_type": "code",
   "execution_count": 15,
   "metadata": {
    "collapsed": false
   },
   "outputs": [
    {
     "name": "stdout",
     "output_type": "stream",
     "text": [
      "Dictionnary Example : Value : Feature\n",
      "{'bonus': 'NaN',\n",
      " 'deferral_payments': 3131860,\n",
      " 'deferred_income': 'NaN',\n",
      " 'director_fees': 'NaN',\n",
      " 'email_address': 'stanley.horton@enron.com',\n",
      " 'exercised_stock_options': 5210569,\n",
      " 'expenses': 'NaN',\n",
      " 'from_messages': 1073,\n",
      " 'from_poi_to_this_person': 44,\n",
      " 'from_this_person_to_poi': 15,\n",
      " 'loan_advances': 'NaN',\n",
      " 'long_term_incentive': 'NaN',\n",
      " 'other': 'NaN',\n",
      " 'poi': False,\n",
      " 'restricted_stock': 2046079,\n",
      " 'restricted_stock_deferred': 'NaN',\n",
      " 'salary': 'NaN',\n",
      " 'shared_receipt_with_poi': 1074,\n",
      " 'to_messages': 2350,\n",
      " 'total_payments': 3131860,\n",
      " 'total_stock_value': 7256648}\n"
     ]
    }
   ],
   "source": [
    "print 'Dictionnary Example : Value : Feature'\n",
    "pretty.pprint(enron_data['HORTON STANLEY C']) "
   ]
  },
  {
   "cell_type": "markdown",
   "metadata": {},
   "source": [
    "At this point we can notice that some category have a \"NaN\" value. this will need to be cleand later.\n"
   ]
  },
  {
   "cell_type": "markdown",
   "metadata": {},
   "source": [
    "Let see how we can call category."
   ]
  },
  {
   "cell_type": "code",
   "execution_count": 16,
   "metadata": {
    "collapsed": false
   },
   "outputs": [
    {
     "name": "stdout",
     "output_type": "stream",
     "text": [
      "1095040\n",
      "11\n",
      "19250000\n"
     ]
    }
   ],
   "source": [
    "# Total Value of stock James Prentice\n",
    "print enron_data['PRENTICE JAMES']['total_stock_value']\n",
    "print enron_data['COLWELL WESLEY']['from_this_person_to_poi']\n",
    "print enron_data['SKILLING JEFFREY K']['exercised_stock_options']"
   ]
  },
  {
   "cell_type": "markdown",
   "metadata": {},
   "source": [
    "<B> How many category have we per person ? </B>"
   ]
  },
  {
   "cell_type": "code",
   "execution_count": 17,
   "metadata": {
    "collapsed": false
   },
   "outputs": [
    {
     "name": "stdout",
     "output_type": "stream",
     "text": [
      "for each there is xx category\n",
      "Nombre de category\n",
      "(21, '. : ', 'from_poi_to_this_person')\n"
     ]
    }
   ],
   "source": [
    "print \"for each there is xx category\"\n",
    "for cat in enron_data['HORTON STANLEY C']:\n",
    "    l_counter_cat = l_counter_cat + 1\n",
    "            \n",
    "print (\"Nombre de category\")    \n",
    "print (l_counter_cat, '. : ' , cat)\n",
    "l_counter_cat = 0\n"
   ]
  },
  {
   "cell_type": "code",
   "execution_count": 18,
   "metadata": {
    "collapsed": true
   },
   "outputs": [],
   "source": [
    "import csv\n",
    "### Write the data into a csv file in order to ease the analysis\n",
    "fieldnames = ['name'] + enron_data['HORTON STANLEY C'].keys()\n",
    "\n",
    "with open('enron.csv', 'w') as csvfile:\n",
    "    writer = csv.DictWriter(csvfile, fieldnames=fieldnames)\n",
    "    \n",
    "    writer.writeheader()\n",
    "    ### Exclude line Total\n",
    "    for name in enron_data.keys():\n",
    "        if name != 'TOTAL':\n",
    "            n = {'name':name}\n",
    "            n.update(enron_data[name])\n",
    "            writer.writerow(n)      "
   ]
  },
  {
   "cell_type": "code",
   "execution_count": 19,
   "metadata": {
    "collapsed": false
   },
   "outputs": [
    {
     "name": "stdout",
     "output_type": "stream",
     "text": [
      "In the dataset there is xx person of Interest : 18\n",
      "\n",
      "        Keys\n",
      "8     Belden\n",
      "7      Bowen\n",
      "10    Calger\n",
      "16    Causey\n",
      "1    Colwell\n",
      "5   Delainey\n",
      "9     Fastow\n",
      "17    Glisan\n",
      "0     Hannon\n",
      "14     Hirko\n",
      "15    Koenig\n",
      "3     Kopper\n",
      "6        Lay\n",
      "11      Rice\n",
      "2     Rieker\n",
      "4     Shelby\n",
      "12  Skilling\n",
      "13    Yeager\n"
     ]
    }
   ],
   "source": [
    "import pandas as pd\n",
    "### Use a panda dataframe to ease data reading\n",
    "\n",
    "###====================================================\n",
    "l_counter = 0\n",
    "poi_name = pd.DataFrame(columns=['Keys'])\n",
    "for keys in enron_data: \n",
    "        ###print(keys, '=>', enron_data[keys])\n",
    "        if enron_data[keys][\"poi\"] == 1:\n",
    "            ###print keys\n",
    "            poi_name = poi_name.append({'Keys': keys.split(' ', 1)[0].capitalize()}, ignore_index=True)\n",
    "            l_counter = l_counter + 1\n",
    "print \"In the dataset there is xx person of Interest :\", l_counter\n",
    "print\n",
    "\n",
    "poi_name.sort_values(by=['Keys'], inplace = True)\n",
    "print poi_name\n",
    "\n",
    "###===================================================="
   ]
  },
  {
   "cell_type": "code",
   "execution_count": 20,
   "metadata": {
    "collapsed": false
   },
   "outputs": [
    {
     "name": "stdout",
     "output_type": "stream",
     "text": [
      "<class 'pandas.core.frame.DataFrame'>\n",
      "RangeIndex: 145 entries, 0 to 144\n",
      "Data columns (total 24 columns):\n",
      "name                         145 non-null object\n",
      "salary                       94 non-null float64\n",
      "to_messages                  86 non-null float64\n",
      "deferral_payments            38 non-null float64\n",
      "total_payments               124 non-null float64\n",
      "exercised_stock_options      101 non-null float64\n",
      "bonus                        81 non-null float64\n",
      "restricted_stock             109 non-null float64\n",
      "shared_receipt_with_poi      86 non-null float64\n",
      "restricted_stock_deferred    17 non-null float64\n",
      "total_stock_value            125 non-null float64\n",
      "expenses                     94 non-null float64\n",
      "loan_advances                3 non-null float64\n",
      "from_messages                86 non-null float64\n",
      "other                        92 non-null float64\n",
      "from_this_person_to_poi      86 non-null float64\n",
      "poi                          145 non-null bool\n",
      "director_fees                16 non-null float64\n",
      "deferred_income              48 non-null float64\n",
      "long_term_incentive          65 non-null float64\n",
      "email_address                111 non-null object\n",
      "from_poi_to_this_person      86 non-null float64\n",
      "ratio_to_poi                 86 non-null float64\n",
      "ratio_from_poi               86 non-null float64\n",
      "dtypes: bool(1), float64(21), object(2)\n",
      "memory usage: 26.3+ KB\n"
     ]
    }
   ],
   "source": [
    "### Use a Panda data frame to read enron csv we generate above\n",
    "enron = pd.read_csv('enron.csv')\n",
    "\n",
    "### Understand mail behaviour\n",
    "#added feature, ratio of e-mails to and from poi\n",
    "enron['ratio_to_poi'] = enron['from_this_person_to_poi'].fillna(0.0)/enron['from_messages'].fillna(0.0)\n",
    "enron['ratio_from_poi'] = enron['from_poi_to_this_person'].fillna(0.0)/enron['to_messages'].fillna(0.0)\n",
    "\n",
    "enron.info()"
   ]
  },
  {
   "cell_type": "code",
   "execution_count": 21,
   "metadata": {
    "collapsed": false
   },
   "outputs": [
    {
     "name": "stdout",
     "output_type": "stream",
     "text": [
      "There are 18 POI in our Dataset as you can see by our \"True\" count\n"
     ]
    },
    {
     "data": {
      "text/plain": [
       "False    127\n",
       "True      18\n",
       "Name: poi, dtype: int64"
      ]
     },
     "execution_count": 21,
     "metadata": {},
     "output_type": "execute_result"
    }
   ],
   "source": [
    "#number of POI in dataset\n",
    "print 'There are 18 POI in our Dataset as you can see by our \"True\" count'\n",
    "enron['poi'].value_counts()"
   ]
  },
  {
   "cell_type": "code",
   "execution_count": 22,
   "metadata": {
    "collapsed": false
   },
   "outputs": [
    {
     "data": {
      "text/html": [
       "<div>\n",
       "<table border=\"1\" class=\"dataframe\">\n",
       "  <thead>\n",
       "    <tr style=\"text-align: right;\">\n",
       "      <th></th>\n",
       "      <th>salary</th>\n",
       "      <th>bonus</th>\n",
       "      <th>exercised_stock_options</th>\n",
       "      <th>total_stock_value</th>\n",
       "      <th>total_payments</th>\n",
       "    </tr>\n",
       "  </thead>\n",
       "  <tbody>\n",
       "    <tr>\n",
       "      <th>count</th>\n",
       "      <td>7.700000e+01</td>\n",
       "      <td>6.500000e+01</td>\n",
       "      <td>8.900000e+01</td>\n",
       "      <td>1.070000e+02</td>\n",
       "      <td>1.060000e+02</td>\n",
       "    </tr>\n",
       "    <tr>\n",
       "      <th>mean</th>\n",
       "      <td>2.621515e+05</td>\n",
       "      <td>9.868249e+05</td>\n",
       "      <td>1.947752e+06</td>\n",
       "      <td>2.374085e+06</td>\n",
       "      <td>1.725091e+06</td>\n",
       "    </tr>\n",
       "    <tr>\n",
       "      <th>std</th>\n",
       "      <td>1.392317e+05</td>\n",
       "      <td>1.173880e+06</td>\n",
       "      <td>2.547068e+06</td>\n",
       "      <td>3.535017e+06</td>\n",
       "      <td>2.618288e+06</td>\n",
       "    </tr>\n",
       "    <tr>\n",
       "      <th>min</th>\n",
       "      <td>4.770000e+02</td>\n",
       "      <td>7.000000e+04</td>\n",
       "      <td>3.285000e+03</td>\n",
       "      <td>-4.409300e+04</td>\n",
       "      <td>1.480000e+02</td>\n",
       "    </tr>\n",
       "    <tr>\n",
       "      <th>25%</th>\n",
       "      <td>2.061210e+05</td>\n",
       "      <td>4.000000e+05</td>\n",
       "      <td>4.365150e+05</td>\n",
       "      <td>4.246845e+05</td>\n",
       "      <td>3.304798e+05</td>\n",
       "    </tr>\n",
       "    <tr>\n",
       "      <th>50%</th>\n",
       "      <td>2.516540e+05</td>\n",
       "      <td>7.000000e+05</td>\n",
       "      <td>1.030329e+06</td>\n",
       "      <td>1.030329e+06</td>\n",
       "      <td>1.056092e+06</td>\n",
       "    </tr>\n",
       "    <tr>\n",
       "      <th>75%</th>\n",
       "      <td>2.885890e+05</td>\n",
       "      <td>1.000000e+06</td>\n",
       "      <td>2.165172e+06</td>\n",
       "      <td>2.307584e+06</td>\n",
       "      <td>2.006025e+06</td>\n",
       "    </tr>\n",
       "    <tr>\n",
       "      <th>max</th>\n",
       "      <td>1.060932e+06</td>\n",
       "      <td>8.000000e+06</td>\n",
       "      <td>1.536417e+07</td>\n",
       "      <td>2.381793e+07</td>\n",
       "      <td>1.725253e+07</td>\n",
       "    </tr>\n",
       "  </tbody>\n",
       "</table>\n",
       "</div>"
      ],
      "text/plain": [
       "             salary         bonus  exercised_stock_options  total_stock_value  \\\n",
       "count  7.700000e+01  6.500000e+01             8.900000e+01       1.070000e+02   \n",
       "mean   2.621515e+05  9.868249e+05             1.947752e+06       2.374085e+06   \n",
       "std    1.392317e+05  1.173880e+06             2.547068e+06       3.535017e+06   \n",
       "min    4.770000e+02  7.000000e+04             3.285000e+03      -4.409300e+04   \n",
       "25%    2.061210e+05  4.000000e+05             4.365150e+05       4.246845e+05   \n",
       "50%    2.516540e+05  7.000000e+05             1.030329e+06       1.030329e+06   \n",
       "75%    2.885890e+05  1.000000e+06             2.165172e+06       2.307584e+06   \n",
       "max    1.060932e+06  8.000000e+06             1.536417e+07       2.381793e+07   \n",
       "\n",
       "       total_payments  \n",
       "count    1.060000e+02  \n",
       "mean     1.725091e+06  \n",
       "std      2.618288e+06  \n",
       "min      1.480000e+02  \n",
       "25%      3.304798e+05  \n",
       "50%      1.056092e+06  \n",
       "75%      2.006025e+06  \n",
       "max      1.725253e+07  "
      ]
     },
     "execution_count": 22,
     "metadata": {},
     "output_type": "execute_result"
    }
   ],
   "source": [
    "#set a baseline by extracting non-POIs and printing stats\n",
    "\n",
    "non_poi = enron[enron.poi.isin([False])]\n",
    "\n",
    "non_poi_money = non_poi[['salary','bonus','exercised_stock_options','total_stock_value',\\\n",
    "                         'total_payments']].describe()\n",
    "non_poi_money"
   ]
  },
  {
   "cell_type": "code",
   "execution_count": 23,
   "metadata": {
    "collapsed": false
   },
   "outputs": [
    {
     "data": {
      "text/html": [
       "<div>\n",
       "<table border=\"1\" class=\"dataframe\">\n",
       "  <thead>\n",
       "    <tr style=\"text-align: right;\">\n",
       "      <th></th>\n",
       "      <th>shared_receipt_with_poi</th>\n",
       "      <th>to_messages</th>\n",
       "      <th>from_messages</th>\n",
       "      <th>ratio_to_poi</th>\n",
       "      <th>ratio_from_poi</th>\n",
       "    </tr>\n",
       "  </thead>\n",
       "  <tbody>\n",
       "    <tr>\n",
       "      <th>count</th>\n",
       "      <td>72.000000</td>\n",
       "      <td>72.000000</td>\n",
       "      <td>72.000000</td>\n",
       "      <td>72.000000</td>\n",
       "      <td>72.000000</td>\n",
       "    </tr>\n",
       "    <tr>\n",
       "      <th>mean</th>\n",
       "      <td>1058.527778</td>\n",
       "      <td>2007.111111</td>\n",
       "      <td>668.763889</td>\n",
       "      <td>0.152669</td>\n",
       "      <td>0.036107</td>\n",
       "    </tr>\n",
       "    <tr>\n",
       "      <th>std</th>\n",
       "      <td>1132.503757</td>\n",
       "      <td>2693.165955</td>\n",
       "      <td>1978.997801</td>\n",
       "      <td>0.206057</td>\n",
       "      <td>0.041929</td>\n",
       "    </tr>\n",
       "    <tr>\n",
       "      <th>min</th>\n",
       "      <td>2.000000</td>\n",
       "      <td>57.000000</td>\n",
       "      <td>12.000000</td>\n",
       "      <td>0.000000</td>\n",
       "      <td>0.000000</td>\n",
       "    </tr>\n",
       "    <tr>\n",
       "      <th>25%</th>\n",
       "      <td>191.500000</td>\n",
       "      <td>513.750000</td>\n",
       "      <td>20.500000</td>\n",
       "      <td>0.000000</td>\n",
       "      <td>0.007760</td>\n",
       "    </tr>\n",
       "    <tr>\n",
       "      <th>50%</th>\n",
       "      <td>594.000000</td>\n",
       "      <td>944.000000</td>\n",
       "      <td>41.000000</td>\n",
       "      <td>0.053776</td>\n",
       "      <td>0.022741</td>\n",
       "    </tr>\n",
       "    <tr>\n",
       "      <th>75%</th>\n",
       "      <td>1635.500000</td>\n",
       "      <td>2590.750000</td>\n",
       "      <td>216.500000</td>\n",
       "      <td>0.225000</td>\n",
       "      <td>0.050705</td>\n",
       "    </tr>\n",
       "    <tr>\n",
       "      <th>max</th>\n",
       "      <td>4527.000000</td>\n",
       "      <td>15149.000000</td>\n",
       "      <td>14368.000000</td>\n",
       "      <td>1.000000</td>\n",
       "      <td>0.217341</td>\n",
       "    </tr>\n",
       "  </tbody>\n",
       "</table>\n",
       "</div>"
      ],
      "text/plain": [
       "       shared_receipt_with_poi   to_messages  from_messages  ratio_to_poi  \\\n",
       "count                72.000000     72.000000      72.000000     72.000000   \n",
       "mean               1058.527778   2007.111111     668.763889      0.152669   \n",
       "std                1132.503757   2693.165955    1978.997801      0.206057   \n",
       "min                   2.000000     57.000000      12.000000      0.000000   \n",
       "25%                 191.500000    513.750000      20.500000      0.000000   \n",
       "50%                 594.000000    944.000000      41.000000      0.053776   \n",
       "75%                1635.500000   2590.750000     216.500000      0.225000   \n",
       "max                4527.000000  15149.000000   14368.000000      1.000000   \n",
       "\n",
       "       ratio_from_poi  \n",
       "count       72.000000  \n",
       "mean         0.036107  \n",
       "std          0.041929  \n",
       "min          0.000000  \n",
       "25%          0.007760  \n",
       "50%          0.022741  \n",
       "75%          0.050705  \n",
       "max          0.217341  "
      ]
     },
     "execution_count": 23,
     "metadata": {},
     "output_type": "execute_result"
    }
   ],
   "source": [
    "non_poi_email_behavior = non_poi[['shared_receipt_with_poi','to_messages',\\\n",
    "                                  'from_messages', 'ratio_to_poi','ratio_from_poi']].describe()\n",
    "non_poi_email_behavior"
   ]
  },
  {
   "cell_type": "code",
   "execution_count": 24,
   "metadata": {
    "collapsed": false
   },
   "outputs": [
    {
     "data": {
      "text/html": [
       "<div>\n",
       "<table border=\"1\" class=\"dataframe\">\n",
       "  <thead>\n",
       "    <tr style=\"text-align: right;\">\n",
       "      <th></th>\n",
       "      <th>salary</th>\n",
       "      <th>bonus</th>\n",
       "      <th>exercised_stock_options</th>\n",
       "      <th>total_stock_value</th>\n",
       "      <th>total_payments</th>\n",
       "    </tr>\n",
       "  </thead>\n",
       "  <tbody>\n",
       "    <tr>\n",
       "      <th>count</th>\n",
       "      <td>1.700000e+01</td>\n",
       "      <td>1.600000e+01</td>\n",
       "      <td>1.200000e+01</td>\n",
       "      <td>1.800000e+01</td>\n",
       "      <td>1.800000e+01</td>\n",
       "    </tr>\n",
       "    <tr>\n",
       "      <th>mean</th>\n",
       "      <td>3.834449e+05</td>\n",
       "      <td>2.075000e+06</td>\n",
       "      <td>1.046379e+07</td>\n",
       "      <td>9.165671e+06</td>\n",
       "      <td>7.913590e+06</td>\n",
       "    </tr>\n",
       "    <tr>\n",
       "      <th>std</th>\n",
       "      <td>2.783597e+05</td>\n",
       "      <td>2.047437e+06</td>\n",
       "      <td>1.238259e+07</td>\n",
       "      <td>1.384117e+07</td>\n",
       "      <td>2.396549e+07</td>\n",
       "    </tr>\n",
       "    <tr>\n",
       "      <th>min</th>\n",
       "      <td>1.584030e+05</td>\n",
       "      <td>2.000000e+05</td>\n",
       "      <td>3.847280e+05</td>\n",
       "      <td>1.260270e+05</td>\n",
       "      <td>9.109300e+04</td>\n",
       "    </tr>\n",
       "    <tr>\n",
       "      <th>25%</th>\n",
       "      <td>2.401890e+05</td>\n",
       "      <td>7.750000e+05</td>\n",
       "      <td>1.456581e+06</td>\n",
       "      <td>1.016450e+06</td>\n",
       "      <td>1.142396e+06</td>\n",
       "    </tr>\n",
       "    <tr>\n",
       "      <th>50%</th>\n",
       "      <td>2.786010e+05</td>\n",
       "      <td>1.275000e+06</td>\n",
       "      <td>3.914557e+06</td>\n",
       "      <td>2.206836e+06</td>\n",
       "      <td>1.754028e+06</td>\n",
       "    </tr>\n",
       "    <tr>\n",
       "      <th>75%</th>\n",
       "      <td>4.151890e+05</td>\n",
       "      <td>2.062500e+06</td>\n",
       "      <td>1.938604e+07</td>\n",
       "      <td>1.051133e+07</td>\n",
       "      <td>2.665345e+06</td>\n",
       "    </tr>\n",
       "    <tr>\n",
       "      <th>max</th>\n",
       "      <td>1.111258e+06</td>\n",
       "      <td>7.000000e+06</td>\n",
       "      <td>3.434838e+07</td>\n",
       "      <td>4.911008e+07</td>\n",
       "      <td>1.035598e+08</td>\n",
       "    </tr>\n",
       "  </tbody>\n",
       "</table>\n",
       "</div>"
      ],
      "text/plain": [
       "             salary         bonus  exercised_stock_options  total_stock_value  \\\n",
       "count  1.700000e+01  1.600000e+01             1.200000e+01       1.800000e+01   \n",
       "mean   3.834449e+05  2.075000e+06             1.046379e+07       9.165671e+06   \n",
       "std    2.783597e+05  2.047437e+06             1.238259e+07       1.384117e+07   \n",
       "min    1.584030e+05  2.000000e+05             3.847280e+05       1.260270e+05   \n",
       "25%    2.401890e+05  7.750000e+05             1.456581e+06       1.016450e+06   \n",
       "50%    2.786010e+05  1.275000e+06             3.914557e+06       2.206836e+06   \n",
       "75%    4.151890e+05  2.062500e+06             1.938604e+07       1.051133e+07   \n",
       "max    1.111258e+06  7.000000e+06             3.434838e+07       4.911008e+07   \n",
       "\n",
       "       total_payments  \n",
       "count    1.800000e+01  \n",
       "mean     7.913590e+06  \n",
       "std      2.396549e+07  \n",
       "min      9.109300e+04  \n",
       "25%      1.142396e+06  \n",
       "50%      1.754028e+06  \n",
       "75%      2.665345e+06  \n",
       "max      1.035598e+08  "
      ]
     },
     "execution_count": 24,
     "metadata": {},
     "output_type": "execute_result"
    }
   ],
   "source": [
    "#POI stats\n",
    "\n",
    "poi_info = enron[enron.poi.isin([True])]\n",
    "\n",
    "poi_money = poi_info[['salary','bonus','exercised_stock_options','total_stock_value',\\\n",
    "                      'total_payments']].describe()\n",
    "poi_money"
   ]
  },
  {
   "cell_type": "code",
   "execution_count": 25,
   "metadata": {
    "collapsed": false
   },
   "outputs": [
    {
     "data": {
      "text/html": [
       "<div>\n",
       "<table border=\"1\" class=\"dataframe\">\n",
       "  <thead>\n",
       "    <tr style=\"text-align: right;\">\n",
       "      <th></th>\n",
       "      <th>shared_receipt_with_poi</th>\n",
       "      <th>to_messages</th>\n",
       "      <th>from_messages</th>\n",
       "      <th>ratio_to_poi</th>\n",
       "      <th>ratio_from_poi</th>\n",
       "    </tr>\n",
       "  </thead>\n",
       "  <tbody>\n",
       "    <tr>\n",
       "      <th>count</th>\n",
       "      <td>14.000000</td>\n",
       "      <td>14.000000</td>\n",
       "      <td>14.000000</td>\n",
       "      <td>14.000000</td>\n",
       "      <td>14.000000</td>\n",
       "    </tr>\n",
       "    <tr>\n",
       "      <th>mean</th>\n",
       "      <td>1783.000000</td>\n",
       "      <td>2417.142857</td>\n",
       "      <td>300.357143</td>\n",
       "      <td>0.345470</td>\n",
       "      <td>0.047507</td>\n",
       "    </tr>\n",
       "    <tr>\n",
       "      <th>std</th>\n",
       "      <td>1264.996625</td>\n",
       "      <td>1961.858101</td>\n",
       "      <td>805.844574</td>\n",
       "      <td>0.156894</td>\n",
       "      <td>0.032085</td>\n",
       "    </tr>\n",
       "    <tr>\n",
       "      <th>min</th>\n",
       "      <td>91.000000</td>\n",
       "      <td>225.000000</td>\n",
       "      <td>16.000000</td>\n",
       "      <td>0.173611</td>\n",
       "      <td>0.021339</td>\n",
       "    </tr>\n",
       "    <tr>\n",
       "      <th>25%</th>\n",
       "      <td>1059.250000</td>\n",
       "      <td>1115.750000</td>\n",
       "      <td>33.000000</td>\n",
       "      <td>0.228580</td>\n",
       "      <td>0.026900</td>\n",
       "    </tr>\n",
       "    <tr>\n",
       "      <th>50%</th>\n",
       "      <td>1589.000000</td>\n",
       "      <td>1875.000000</td>\n",
       "      <td>44.500000</td>\n",
       "      <td>0.276389</td>\n",
       "      <td>0.030639</td>\n",
       "    </tr>\n",
       "    <tr>\n",
       "      <th>75%</th>\n",
       "      <td>2165.250000</td>\n",
       "      <td>2969.250000</td>\n",
       "      <td>101.500000</td>\n",
       "      <td>0.427083</td>\n",
       "      <td>0.059118</td>\n",
       "    </tr>\n",
       "    <tr>\n",
       "      <th>max</th>\n",
       "      <td>5521.000000</td>\n",
       "      <td>7991.000000</td>\n",
       "      <td>3069.000000</td>\n",
       "      <td>0.656250</td>\n",
       "      <td>0.136519</td>\n",
       "    </tr>\n",
       "  </tbody>\n",
       "</table>\n",
       "</div>"
      ],
      "text/plain": [
       "       shared_receipt_with_poi  to_messages  from_messages  ratio_to_poi  \\\n",
       "count                14.000000    14.000000      14.000000     14.000000   \n",
       "mean               1783.000000  2417.142857     300.357143      0.345470   \n",
       "std                1264.996625  1961.858101     805.844574      0.156894   \n",
       "min                  91.000000   225.000000      16.000000      0.173611   \n",
       "25%                1059.250000  1115.750000      33.000000      0.228580   \n",
       "50%                1589.000000  1875.000000      44.500000      0.276389   \n",
       "75%                2165.250000  2969.250000     101.500000      0.427083   \n",
       "max                5521.000000  7991.000000    3069.000000      0.656250   \n",
       "\n",
       "       ratio_from_poi  \n",
       "count       14.000000  \n",
       "mean         0.047507  \n",
       "std          0.032085  \n",
       "min          0.021339  \n",
       "25%          0.026900  \n",
       "50%          0.030639  \n",
       "75%          0.059118  \n",
       "max          0.136519  "
      ]
     },
     "execution_count": 25,
     "metadata": {},
     "output_type": "execute_result"
    }
   ],
   "source": [
    "poi_email_behavior = poi_info[['shared_receipt_with_poi','to_messages',\\\n",
    "                                  'from_messages', 'ratio_to_poi', 'ratio_from_poi']].describe()\n",
    "poi_email_behavior"
   ]
  },
  {
   "cell_type": "markdown",
   "metadata": {},
   "source": [
    "## Explore Data"
   ]
  },
  {
   "cell_type": "markdown",
   "metadata": {},
   "source": [
    "In the section below we will compare financial value from POI and Non Poi perspective. this will certainly lead us to some useless as well as usefull information. But also help us to have a clearer understanding of the dataset.\n",
    "May be a pattern will be draw.\n",
    "On order to do so, we will simply compare the value using plots."
   ]
  },
  {
   "cell_type": "code",
   "execution_count": 26,
   "metadata": {
    "collapsed": false
   },
   "outputs": [
    {
     "name": "stdout",
     "output_type": "stream",
     "text": [
      "Populating the interactive namespace from numpy and matplotlib\n"
     ]
    }
   ],
   "source": [
    "import matplotlib.pyplot as plt\n",
    "%matplotlib inline\n",
    "%pylab inline\n",
    "import seaborn as sns"
   ]
  },
  {
   "cell_type": "code",
   "execution_count": 27,
   "metadata": {
    "collapsed": false
   },
   "outputs": [
    {
     "data": {
      "text/plain": [
       "poi\n",
       "False    262151.506494\n",
       "True     383444.882353\n",
       "Name: salary, dtype: float64"
      ]
     },
     "execution_count": 27,
     "metadata": {},
     "output_type": "execute_result"
    }
   ],
   "source": [
    "average_salary = enron.groupby('poi').mean()['salary']\n",
    "average_salary"
   ]
  },
  {
   "cell_type": "code",
   "execution_count": 28,
   "metadata": {
    "collapsed": false
   },
   "outputs": [
    {
     "data": {
      "text/plain": [
       "<matplotlib.axes._subplots.AxesSubplot at 0xc1535c0>"
      ]
     },
     "execution_count": 28,
     "metadata": {},
     "output_type": "execute_result"
    },
    {
     "data": {
      "image/png": "[encoded data removed]",
      "text/plain": [
       "<matplotlib.figure.Figure at 0x8d5b3c8>"
      ]
     },
     "metadata": {},
     "output_type": "display_data"
    }
   ],
   "source": [
    "sns.boxplot(x='poi',y='salary',data=enron)"
   ]
  },
  {
   "cell_type": "code",
   "execution_count": 29,
   "metadata": {
    "collapsed": false
   },
   "outputs": [
    {
     "data": {
      "text/html": [
       "<div>\n",
       "<table border=\"1\" class=\"dataframe\">\n",
       "  <thead>\n",
       "    <tr style=\"text-align: right;\">\n",
       "      <th></th>\n",
       "      <th>name</th>\n",
       "      <th>salary</th>\n",
       "      <th>bonus</th>\n",
       "      <th>poi</th>\n",
       "    </tr>\n",
       "  </thead>\n",
       "  <tbody>\n",
       "    <tr>\n",
       "      <th>65</th>\n",
       "      <td>LAY KENNETH L</td>\n",
       "      <td>1072321.0</td>\n",
       "      <td>7000000.0</td>\n",
       "      <td>True</td>\n",
       "    </tr>\n",
       "    <tr>\n",
       "      <th>95</th>\n",
       "      <td>SKILLING JEFFREY K</td>\n",
       "      <td>1111258.0</td>\n",
       "      <td>5600000.0</td>\n",
       "      <td>True</td>\n",
       "    </tr>\n",
       "    <tr>\n",
       "      <th>100</th>\n",
       "      <td>PICKERING MARK R</td>\n",
       "      <td>655037.0</td>\n",
       "      <td>300000.0</td>\n",
       "      <td>False</td>\n",
       "    </tr>\n",
       "    <tr>\n",
       "      <th>128</th>\n",
       "      <td>FREVERT MARK A</td>\n",
       "      <td>1060932.0</td>\n",
       "      <td>2000000.0</td>\n",
       "      <td>False</td>\n",
       "    </tr>\n",
       "  </tbody>\n",
       "</table>\n",
       "</div>"
      ],
      "text/plain": [
       "                   name     salary      bonus    poi\n",
       "65        LAY KENNETH L  1072321.0  7000000.0   True\n",
       "95   SKILLING JEFFREY K  1111258.0  5600000.0   True\n",
       "100    PICKERING MARK R   655037.0   300000.0  False\n",
       "128      FREVERT MARK A  1060932.0  2000000.0  False"
      ]
     },
     "execution_count": 29,
     "metadata": {},
     "output_type": "execute_result"
    }
   ],
   "source": [
    "enron[(enron['salary']>600000)][['name','salary', 'bonus','poi']]"
   ]
  },
  {
   "cell_type": "code",
   "execution_count": 30,
   "metadata": {
    "collapsed": false
   },
   "outputs": [
    {
     "data": {
      "text/plain": [
       "poi\n",
       "False    9.868249e+05\n",
       "True     2.075000e+06\n",
       "Name: bonus, dtype: float64"
      ]
     },
     "execution_count": 30,
     "metadata": {},
     "output_type": "execute_result"
    }
   ],
   "source": [
    "average_bonus = enron.groupby('poi').mean()['bonus']\n",
    "average_bonus"
   ]
  },
  {
   "cell_type": "code",
   "execution_count": 31,
   "metadata": {
    "collapsed": false
   },
   "outputs": [
    {
     "data": {
      "text/plain": [
       "<matplotlib.axes._subplots.AxesSubplot at 0xbfa0160>"
      ]
     },
     "execution_count": 31,
     "metadata": {},
     "output_type": "execute_result"
    },
    {
     "data": {
      "image/png": "[encoded data removed]",
      "text/plain": [
       "<matplotlib.figure.Figure at 0x8d5bcf8>"
      ]
     },
     "metadata": {},
     "output_type": "display_data"
    }
   ],
   "source": [
    "sns.boxplot(x='poi',y='bonus',data=enron)"
   ]
  },
  {
   "cell_type": "markdown",
   "metadata": {},
   "source": [
    "A non POI has really a massive bonus. 8M, is even higher than POI. Let's see who are the top 5 (over 4M)."
   ]
  },
  {
   "cell_type": "code",
   "execution_count": 32,
   "metadata": {
    "collapsed": false
   },
   "outputs": [
    {
     "data": {
      "text/html": [
       "<div>\n",
       "<table border=\"1\" class=\"dataframe\">\n",
       "  <thead>\n",
       "    <tr style=\"text-align: right;\">\n",
       "      <th></th>\n",
       "      <th>name</th>\n",
       "      <th>salary</th>\n",
       "      <th>bonus</th>\n",
       "      <th>exercised_stock_options</th>\n",
       "      <th>restricted_stock</th>\n",
       "      <th>total_stock_value</th>\n",
       "      <th>poi</th>\n",
       "    </tr>\n",
       "  </thead>\n",
       "  <tbody>\n",
       "    <tr>\n",
       "      <th>43</th>\n",
       "      <td>LAVORATO JOHN J</td>\n",
       "      <td>339288.0</td>\n",
       "      <td>8000000.0</td>\n",
       "      <td>4158995.0</td>\n",
       "      <td>1008149.0</td>\n",
       "      <td>5167144.0</td>\n",
       "      <td>False</td>\n",
       "    </tr>\n",
       "    <tr>\n",
       "      <th>65</th>\n",
       "      <td>LAY KENNETH L</td>\n",
       "      <td>1072321.0</td>\n",
       "      <td>7000000.0</td>\n",
       "      <td>34348384.0</td>\n",
       "      <td>14761694.0</td>\n",
       "      <td>49110078.0</td>\n",
       "      <td>True</td>\n",
       "    </tr>\n",
       "    <tr>\n",
       "      <th>82</th>\n",
       "      <td>BELDEN TIMOTHY N</td>\n",
       "      <td>213999.0</td>\n",
       "      <td>5249999.0</td>\n",
       "      <td>953136.0</td>\n",
       "      <td>157569.0</td>\n",
       "      <td>1110705.0</td>\n",
       "      <td>True</td>\n",
       "    </tr>\n",
       "    <tr>\n",
       "      <th>95</th>\n",
       "      <td>SKILLING JEFFREY K</td>\n",
       "      <td>1111258.0</td>\n",
       "      <td>5600000.0</td>\n",
       "      <td>19250000.0</td>\n",
       "      <td>6843672.0</td>\n",
       "      <td>26093672.0</td>\n",
       "      <td>True</td>\n",
       "    </tr>\n",
       "    <tr>\n",
       "      <th>108</th>\n",
       "      <td>ALLEN PHILLIP K</td>\n",
       "      <td>201955.0</td>\n",
       "      <td>4175000.0</td>\n",
       "      <td>1729541.0</td>\n",
       "      <td>126027.0</td>\n",
       "      <td>1729541.0</td>\n",
       "      <td>False</td>\n",
       "    </tr>\n",
       "  </tbody>\n",
       "</table>\n",
       "</div>"
      ],
      "text/plain": [
       "                   name     salary      bonus  exercised_stock_options  \\\n",
       "43      LAVORATO JOHN J   339288.0  8000000.0                4158995.0   \n",
       "65        LAY KENNETH L  1072321.0  7000000.0               34348384.0   \n",
       "82     BELDEN TIMOTHY N   213999.0  5249999.0                 953136.0   \n",
       "95   SKILLING JEFFREY K  1111258.0  5600000.0               19250000.0   \n",
       "108     ALLEN PHILLIP K   201955.0  4175000.0                1729541.0   \n",
       "\n",
       "     restricted_stock  total_stock_value    poi  \n",
       "43          1008149.0          5167144.0  False  \n",
       "65         14761694.0         49110078.0   True  \n",
       "82           157569.0          1110705.0   True  \n",
       "95          6843672.0         26093672.0   True  \n",
       "108          126027.0          1729541.0  False  "
      ]
     },
     "execution_count": 32,
     "metadata": {},
     "output_type": "execute_result"
    }
   ],
   "source": [
    "enron[(enron['bonus']>4000000)][['name','salary','bonus','exercised_stock_options','restricted_stock','total_stock_value','poi']]"
   ]
  },
  {
   "cell_type": "code",
   "execution_count": 33,
   "metadata": {
    "collapsed": false
   },
   "outputs": [
    {
     "data": {
      "text/plain": [
       "poi\n",
       "False    1.725091e+06\n",
       "True     7.913590e+06\n",
       "Name: total_payments, dtype: float64"
      ]
     },
     "execution_count": 33,
     "metadata": {},
     "output_type": "execute_result"
    }
   ],
   "source": [
    "average_total_payments = enron.groupby('poi').mean()['total_payments']\n",
    "average_total_payments"
   ]
  },
  {
   "cell_type": "code",
   "execution_count": 34,
   "metadata": {
    "collapsed": false
   },
   "outputs": [
    {
     "data": {
      "text/plain": [
       "<matplotlib.axes._subplots.AxesSubplot at 0xbfd3080>"
      ]
     },
     "execution_count": 34,
     "metadata": {},
     "output_type": "execute_result"
    },
    {
     "data": {
      "image/png": "[encoded data removed]",
      "text/plain": [
       "<matplotlib.figure.Figure at 0xc394da0>"
      ]
     },
     "metadata": {},
     "output_type": "display_data"
    }
   ],
   "source": [
    "sns.boxplot(x='poi',y='total_payments',data=enron)"
   ]
  },
  {
   "cell_type": "markdown",
   "metadata": {},
   "source": [
    "Let's see who has this out of range total payment and check where this value come from.\n"
   ]
  },
  {
   "cell_type": "code",
   "execution_count": 35,
   "metadata": {
    "collapsed": false
   },
   "outputs": [
    {
     "data": {
      "text/html": [
       "<div>\n",
       "<table border=\"1\" class=\"dataframe\">\n",
       "  <thead>\n",
       "    <tr style=\"text-align: right;\">\n",
       "      <th></th>\n",
       "      <th>name</th>\n",
       "      <th>salary</th>\n",
       "      <th>bonus</th>\n",
       "      <th>total_stock_value</th>\n",
       "      <th>total_payments</th>\n",
       "      <th>poi</th>\n",
       "    </tr>\n",
       "  </thead>\n",
       "  <tbody>\n",
       "    <tr>\n",
       "      <th>65</th>\n",
       "      <td>LAY KENNETH L</td>\n",
       "      <td>1072321.0</td>\n",
       "      <td>7000000.0</td>\n",
       "      <td>49110078.0</td>\n",
       "      <td>103559793.0</td>\n",
       "      <td>True</td>\n",
       "    </tr>\n",
       "  </tbody>\n",
       "</table>\n",
       "</div>"
      ],
      "text/plain": [
       "             name     salary      bonus  total_stock_value  total_payments  \\\n",
       "65  LAY KENNETH L  1072321.0  7000000.0         49110078.0     103559793.0   \n",
       "\n",
       "     poi  \n",
       "65  True  "
      ]
     },
     "execution_count": 35,
     "metadata": {},
     "output_type": "execute_result"
    }
   ],
   "source": [
    "enron[(enron['total_payments']>40000000)][['name','salary', 'bonus', 'total_stock_value','total_payments','poi']]"
   ]
  },
  {
   "cell_type": "code",
   "execution_count": 36,
   "metadata": {
    "collapsed": false
   },
   "outputs": [
    {
     "data": {
      "text/html": [
       "<div>\n",
       "<table border=\"1\" class=\"dataframe\">\n",
       "  <thead>\n",
       "    <tr style=\"text-align: right;\">\n",
       "      <th></th>\n",
       "      <th>name</th>\n",
       "      <th>salary</th>\n",
       "      <th>to_messages</th>\n",
       "      <th>deferral_payments</th>\n",
       "      <th>total_payments</th>\n",
       "      <th>exercised_stock_options</th>\n",
       "      <th>bonus</th>\n",
       "      <th>restricted_stock</th>\n",
       "      <th>shared_receipt_with_poi</th>\n",
       "      <th>restricted_stock_deferred</th>\n",
       "      <th>...</th>\n",
       "      <th>other</th>\n",
       "      <th>from_this_person_to_poi</th>\n",
       "      <th>poi</th>\n",
       "      <th>director_fees</th>\n",
       "      <th>deferred_income</th>\n",
       "      <th>long_term_incentive</th>\n",
       "      <th>email_address</th>\n",
       "      <th>from_poi_to_this_person</th>\n",
       "      <th>ratio_to_poi</th>\n",
       "      <th>ratio_from_poi</th>\n",
       "    </tr>\n",
       "  </thead>\n",
       "  <tbody>\n",
       "    <tr>\n",
       "      <th>65</th>\n",
       "      <td>LAY KENNETH L</td>\n",
       "      <td>1072321.0</td>\n",
       "      <td>4273.0</td>\n",
       "      <td>202911.0</td>\n",
       "      <td>103559793.0</td>\n",
       "      <td>34348384.0</td>\n",
       "      <td>7000000.0</td>\n",
       "      <td>14761694.0</td>\n",
       "      <td>2411.0</td>\n",
       "      <td>NaN</td>\n",
       "      <td>...</td>\n",
       "      <td>10359729.0</td>\n",
       "      <td>16.0</td>\n",
       "      <td>True</td>\n",
       "      <td>NaN</td>\n",
       "      <td>-300000.0</td>\n",
       "      <td>3600000.0</td>\n",
       "      <td>kenneth.lay@enron.com</td>\n",
       "      <td>123.0</td>\n",
       "      <td>0.444444</td>\n",
       "      <td>0.028785</td>\n",
       "    </tr>\n",
       "  </tbody>\n",
       "</table>\n",
       "<p>1 rows × 24 columns</p>\n",
       "</div>"
      ],
      "text/plain": [
       "             name     salary  to_messages  deferral_payments  total_payments  \\\n",
       "65  LAY KENNETH L  1072321.0       4273.0           202911.0     103559793.0   \n",
       "\n",
       "    exercised_stock_options      bonus  restricted_stock  \\\n",
       "65               34348384.0  7000000.0        14761694.0   \n",
       "\n",
       "    shared_receipt_with_poi  restricted_stock_deferred       ...        \\\n",
       "65                   2411.0                        NaN       ...         \n",
       "\n",
       "         other  from_this_person_to_poi   poi  director_fees  deferred_income  \\\n",
       "65  10359729.0                     16.0  True            NaN        -300000.0   \n",
       "\n",
       "    long_term_incentive          email_address  from_poi_to_this_person  \\\n",
       "65            3600000.0  kenneth.lay@enron.com                    123.0   \n",
       "\n",
       "    ratio_to_poi  ratio_from_poi  \n",
       "65      0.444444        0.028785  \n",
       "\n",
       "[1 rows x 24 columns]"
      ]
     },
     "execution_count": 36,
     "metadata": {},
     "output_type": "execute_result"
    }
   ],
   "source": [
    "enron[(enron['name']== 'LAY KENNETH L')]"
   ]
  },
  {
   "cell_type": "code",
   "execution_count": 37,
   "metadata": {
    "collapsed": false
   },
   "outputs": [
    {
     "data": {
      "text/plain": [
       "<matplotlib.axes._subplots.AxesSubplot at 0xc4afc88>"
      ]
     },
     "execution_count": 37,
     "metadata": {},
     "output_type": "execute_result"
    },
    {
     "data": {
      "image/png": "[encoded data removed]",
      "text/plain": [
       "<matplotlib.figure.Figure at 0xc44f2e8>"
      ]
     },
     "metadata": {},
     "output_type": "display_data"
    }
   ],
   "source": [
    "### Exclude Kenneth from this comparison\n",
    "enron_k_excluded = enron[(enron['total_payments']<40000000)]\n",
    "\n",
    "sns.boxplot(x='poi',y='total_payments',data=enron_k_excluded)"
   ]
  },
  {
   "cell_type": "markdown",
   "metadata": {},
   "source": [
    "Even without Kenneth, we still have some huge amount in the non poi group."
   ]
  },
  {
   "cell_type": "code",
   "execution_count": 38,
   "metadata": {
    "collapsed": false
   },
   "outputs": [
    {
     "data": {
      "text/plain": [
       "poi\n",
       "False    1.947752e+06\n",
       "True     1.046379e+07\n",
       "Name: exercised_stock_options, dtype: float64"
      ]
     },
     "execution_count": 38,
     "metadata": {},
     "output_type": "execute_result"
    }
   ],
   "source": [
    "average_optionsvalue = enron.groupby('poi').mean()['exercised_stock_options']\n",
    "average_optionsvalue\n"
   ]
  },
  {
   "cell_type": "code",
   "execution_count": 39,
   "metadata": {
    "collapsed": false
   },
   "outputs": [
    {
     "data": {
      "text/plain": [
       "<matplotlib.axes._subplots.AxesSubplot at 0xd02c198>"
      ]
     },
     "execution_count": 39,
     "metadata": {},
     "output_type": "execute_result"
    },
    {
     "data": {
      "image/png": "[encoded data removed]",
      "text/plain": [
       "<matplotlib.figure.Figure at 0xcfee390>"
      ]
     },
     "metadata": {},
     "output_type": "display_data"
    }
   ],
   "source": [
    "sns.boxplot(x='poi',y='exercised_stock_options',data=enron)"
   ]
  },
  {
   "cell_type": "code",
   "execution_count": 57,
   "metadata": {
    "collapsed": false
   },
   "outputs": [
    {
     "ename": "SyntaxError",
     "evalue": "invalid syntax (<ipython-input-57-77bac47481f7>, line 1)",
     "output_type": "error",
     "traceback": [
      "\u001b[0;36m  File \u001b[0;32m\"<ipython-input-57-77bac47481f7>\"\u001b[0;36m, line \u001b[0;32m1\u001b[0m\n\u001b[0;31m    Non surprisingly, the POI have a important amount of exercized stock options.\u001b[0m\n\u001b[0m                   ^\u001b[0m\n\u001b[0;31mSyntaxError\u001b[0m\u001b[0;31m:\u001b[0m invalid syntax\n"
     ]
    }
   ],
   "source": [
    "Non surprisingly, the POI have a important amount of exercized stock options."
   ]
  },
  {
   "cell_type": "code",
   "execution_count": 40,
   "metadata": {
    "collapsed": false
   },
   "outputs": [
    {
     "data": {
      "text/plain": [
       "poi\n",
       "False    2.374085e+06\n",
       "True     9.165671e+06\n",
       "Name: total_stock_value, dtype: float64"
      ]
     },
     "execution_count": 40,
     "metadata": {},
     "output_type": "execute_result"
    }
   ],
   "source": [
    "average_stockvalue = enron.groupby('poi').mean()['total_stock_value']\n",
    "average_stockvalue"
   ]
  },
  {
   "cell_type": "code",
   "execution_count": 41,
   "metadata": {
    "collapsed": false
   },
   "outputs": [
    {
     "data": {
      "text/plain": [
       "<matplotlib.axes._subplots.AxesSubplot at 0xc4af5f8>"
      ]
     },
     "execution_count": 41,
     "metadata": {},
     "output_type": "execute_result"
    },
    {
     "data": {
      "image/png": "[encoded data removed]",
      "text/plain": [
       "<matplotlib.figure.Figure at 0xd3794a8>"
      ]
     },
     "metadata": {},
     "output_type": "display_data"
    }
   ],
   "source": [
    "sns.boxplot(x='poi',y='total_stock_value',data=enron)"
   ]
  },
  {
   "cell_type": "code",
   "execution_count": 42,
   "metadata": {
    "collapsed": false
   },
   "outputs": [
    {
     "data": {
      "text/html": [
       "<div>\n",
       "<table border=\"1\" class=\"dataframe\">\n",
       "  <thead>\n",
       "    <tr style=\"text-align: right;\">\n",
       "      <th></th>\n",
       "      <th>name</th>\n",
       "      <th>salary</th>\n",
       "      <th>bonus</th>\n",
       "      <th>total_stock_value</th>\n",
       "      <th>total_payments</th>\n",
       "      <th>poi</th>\n",
       "    </tr>\n",
       "  </thead>\n",
       "  <tbody>\n",
       "    <tr>\n",
       "      <th>65</th>\n",
       "      <td>LAY KENNETH L</td>\n",
       "      <td>1072321.0</td>\n",
       "      <td>7000000.0</td>\n",
       "      <td>49110078.0</td>\n",
       "      <td>103559793.0</td>\n",
       "      <td>True</td>\n",
       "    </tr>\n",
       "    <tr>\n",
       "      <th>88</th>\n",
       "      <td>RICE KENNETH D</td>\n",
       "      <td>420636.0</td>\n",
       "      <td>1750000.0</td>\n",
       "      <td>22542539.0</td>\n",
       "      <td>505050.0</td>\n",
       "      <td>True</td>\n",
       "    </tr>\n",
       "    <tr>\n",
       "      <th>95</th>\n",
       "      <td>SKILLING JEFFREY K</td>\n",
       "      <td>1111258.0</td>\n",
       "      <td>5600000.0</td>\n",
       "      <td>26093672.0</td>\n",
       "      <td>8682716.0</td>\n",
       "      <td>True</td>\n",
       "    </tr>\n",
       "    <tr>\n",
       "      <th>125</th>\n",
       "      <td>HIRKO JOSEPH</td>\n",
       "      <td>NaN</td>\n",
       "      <td>NaN</td>\n",
       "      <td>30766064.0</td>\n",
       "      <td>91093.0</td>\n",
       "      <td>True</td>\n",
       "    </tr>\n",
       "    <tr>\n",
       "      <th>129</th>\n",
       "      <td>PAI LOU L</td>\n",
       "      <td>261879.0</td>\n",
       "      <td>1000000.0</td>\n",
       "      <td>23817930.0</td>\n",
       "      <td>3123383.0</td>\n",
       "      <td>False</td>\n",
       "    </tr>\n",
       "  </tbody>\n",
       "</table>\n",
       "</div>"
      ],
      "text/plain": [
       "                   name     salary      bonus  total_stock_value  \\\n",
       "65        LAY KENNETH L  1072321.0  7000000.0         49110078.0   \n",
       "88       RICE KENNETH D   420636.0  1750000.0         22542539.0   \n",
       "95   SKILLING JEFFREY K  1111258.0  5600000.0         26093672.0   \n",
       "125        HIRKO JOSEPH        NaN        NaN         30766064.0   \n",
       "129           PAI LOU L   261879.0  1000000.0         23817930.0   \n",
       "\n",
       "     total_payments    poi  \n",
       "65      103559793.0   True  \n",
       "88         505050.0   True  \n",
       "95        8682716.0   True  \n",
       "125         91093.0   True  \n",
       "129       3123383.0  False  "
      ]
     },
     "execution_count": 42,
     "metadata": {},
     "output_type": "execute_result"
    }
   ],
   "source": [
    "enron[(enron['total_stock_value']>20000000)][['name','salary', 'bonus', 'total_stock_value','total_payments','poi']]"
   ]
  },
  {
   "cell_type": "code",
   "execution_count": 43,
   "metadata": {
    "collapsed": false
   },
   "outputs": [
    {
     "data": {
      "text/plain": [
       "poi\n",
       "False    1058.527778\n",
       "True     1783.000000\n",
       "Name: shared_receipt_with_poi, dtype: float64"
      ]
     },
     "execution_count": 43,
     "metadata": {},
     "output_type": "execute_result"
    }
   ],
   "source": [
    "average_shared_receipt = enron.groupby('poi').mean()['shared_receipt_with_poi']\n",
    "average_shared_receipt"
   ]
  },
  {
   "cell_type": "code",
   "execution_count": 44,
   "metadata": {
    "collapsed": false
   },
   "outputs": [
    {
     "data": {
      "text/plain": [
       "<matplotlib.axes._subplots.AxesSubplot at 0xd63d240>"
      ]
     },
     "execution_count": 44,
     "metadata": {},
     "output_type": "execute_result"
    },
    {
     "data": {
      "image/png": "[encoded data removed]",
      "text/plain": [
       "<matplotlib.figure.Figure at 0xd154c50>"
      ]
     },
     "metadata": {},
     "output_type": "display_data"
    }
   ],
   "source": [
    "sns.boxplot(x='poi',y='shared_receipt_with_poi',data= enron)"
   ]
  },
  {
   "cell_type": "markdown",
   "metadata": {},
   "source": [
    "In the representation above, we can notice that we have one outlier in the poi group. "
   ]
  },
  {
   "cell_type": "code",
   "execution_count": 45,
   "metadata": {
    "collapsed": false
   },
   "outputs": [
    {
     "data": {
      "text/plain": [
       "poi\n",
       "False    2007.111111\n",
       "True     2417.142857\n",
       "Name: to_messages, dtype: float64"
      ]
     },
     "execution_count": 45,
     "metadata": {},
     "output_type": "execute_result"
    }
   ],
   "source": [
    "average_to = enron.groupby('poi').mean()['to_messages']\n",
    "average_to"
   ]
  },
  {
   "cell_type": "code",
   "execution_count": 46,
   "metadata": {
    "collapsed": false
   },
   "outputs": [
    {
     "data": {
      "text/plain": [
       "<matplotlib.axes._subplots.AxesSubplot at 0xd85d320>"
      ]
     },
     "execution_count": 46,
     "metadata": {},
     "output_type": "execute_result"
    },
    {
     "data": {
      "image/png": "[encoded data removed]",
      "text/plain": [
       "<matplotlib.figure.Figure at 0xd94e9b0>"
      ]
     },
     "metadata": {},
     "output_type": "display_data"
    }
   ],
   "source": [
    "sns.boxplot(x='poi',y='to_messages',data= enron)"
   ]
  },
  {
   "cell_type": "markdown",
   "metadata": {},
   "source": [
    "In the visualization above, we can identify that some are really having a huge mail activity. May be interesting to identify these person, but definitely, email behaviour will be interesting to use as a category."
   ]
  },
  {
   "cell_type": "code",
   "execution_count": 47,
   "metadata": {
    "collapsed": false
   },
   "outputs": [
    {
     "data": {
      "text/plain": [
       "poi\n",
       "False    668.763889\n",
       "True     300.357143\n",
       "Name: from_messages, dtype: float64"
      ]
     },
     "execution_count": 47,
     "metadata": {},
     "output_type": "execute_result"
    }
   ],
   "source": [
    "average_from = enron.groupby('poi').mean()['from_messages']\n",
    "average_from"
   ]
  },
  {
   "cell_type": "code",
   "execution_count": 48,
   "metadata": {
    "collapsed": false
   },
   "outputs": [
    {
     "data": {
      "text/plain": [
       "<matplotlib.axes._subplots.AxesSubplot at 0xd9866d8>"
      ]
     },
     "execution_count": 48,
     "metadata": {},
     "output_type": "execute_result"
    },
    {
     "data": {
      "image/png": "[encoded data removed]",
      "text/plain": [
       "<matplotlib.figure.Figure at 0xd631f60>"
      ]
     },
     "metadata": {},
     "output_type": "display_data"
    }
   ],
   "source": [
    "sns.boxplot(x='poi',y='from_messages',data= enron)"
   ]
  },
  {
   "cell_type": "code",
   "execution_count": 49,
   "metadata": {
    "collapsed": false
   },
   "outputs": [
    {
     "data": {
      "text/html": [
       "<div>\n",
       "<table border=\"1\" class=\"dataframe\">\n",
       "  <thead>\n",
       "    <tr style=\"text-align: right;\">\n",
       "      <th></th>\n",
       "      <th>name</th>\n",
       "      <th>salary</th>\n",
       "      <th>bonus</th>\n",
       "      <th>from_messages</th>\n",
       "      <th>poi</th>\n",
       "    </tr>\n",
       "  </thead>\n",
       "  <tbody>\n",
       "    <tr>\n",
       "      <th>25</th>\n",
       "      <td>SHANKMAN JEFFREY A</td>\n",
       "      <td>304110.0</td>\n",
       "      <td>2000000.0</td>\n",
       "      <td>2681.0</td>\n",
       "      <td>False</td>\n",
       "    </tr>\n",
       "    <tr>\n",
       "      <th>32</th>\n",
       "      <td>BECK SALLY W</td>\n",
       "      <td>231330.0</td>\n",
       "      <td>700000.0</td>\n",
       "      <td>4343.0</td>\n",
       "      <td>False</td>\n",
       "    </tr>\n",
       "    <tr>\n",
       "      <th>43</th>\n",
       "      <td>LAVORATO JOHN J</td>\n",
       "      <td>339288.0</td>\n",
       "      <td>8000000.0</td>\n",
       "      <td>2585.0</td>\n",
       "      <td>False</td>\n",
       "    </tr>\n",
       "    <tr>\n",
       "      <th>58</th>\n",
       "      <td>MCCONNELL MICHAEL S</td>\n",
       "      <td>365038.0</td>\n",
       "      <td>1100000.0</td>\n",
       "      <td>2742.0</td>\n",
       "      <td>False</td>\n",
       "    </tr>\n",
       "    <tr>\n",
       "      <th>60</th>\n",
       "      <td>DELAINEY DAVID W</td>\n",
       "      <td>365163.0</td>\n",
       "      <td>3000000.0</td>\n",
       "      <td>3069.0</td>\n",
       "      <td>True</td>\n",
       "    </tr>\n",
       "    <tr>\n",
       "      <th>89</th>\n",
       "      <td>KAMINSKI WINCENTY J</td>\n",
       "      <td>275101.0</td>\n",
       "      <td>400000.0</td>\n",
       "      <td>14368.0</td>\n",
       "      <td>False</td>\n",
       "    </tr>\n",
       "    <tr>\n",
       "      <th>103</th>\n",
       "      <td>KEAN STEVEN J</td>\n",
       "      <td>404338.0</td>\n",
       "      <td>1000000.0</td>\n",
       "      <td>6759.0</td>\n",
       "      <td>False</td>\n",
       "    </tr>\n",
       "    <tr>\n",
       "      <th>108</th>\n",
       "      <td>ALLEN PHILLIP K</td>\n",
       "      <td>201955.0</td>\n",
       "      <td>4175000.0</td>\n",
       "      <td>2195.0</td>\n",
       "      <td>False</td>\n",
       "    </tr>\n",
       "  </tbody>\n",
       "</table>\n",
       "</div>"
      ],
      "text/plain": [
       "                    name    salary      bonus  from_messages    poi\n",
       "25    SHANKMAN JEFFREY A  304110.0  2000000.0         2681.0  False\n",
       "32          BECK SALLY W  231330.0   700000.0         4343.0  False\n",
       "43       LAVORATO JOHN J  339288.0  8000000.0         2585.0  False\n",
       "58   MCCONNELL MICHAEL S  365038.0  1100000.0         2742.0  False\n",
       "60      DELAINEY DAVID W  365163.0  3000000.0         3069.0   True\n",
       "89   KAMINSKI WINCENTY J  275101.0   400000.0        14368.0  False\n",
       "103        KEAN STEVEN J  404338.0  1000000.0         6759.0  False\n",
       "108      ALLEN PHILLIP K  201955.0  4175000.0         2195.0  False"
      ]
     },
     "execution_count": 49,
     "metadata": {},
     "output_type": "execute_result"
    }
   ],
   "source": [
    "enron[(enron['from_messages']>2000)][['name','salary', 'bonus', 'from_messages','poi']]"
   ]
  },
  {
   "cell_type": "code",
   "execution_count": 50,
   "metadata": {
    "collapsed": false
   },
   "outputs": [
    {
     "data": {
      "text/plain": [
       "poi\n",
       "False    0.152669\n",
       "True     0.345470\n",
       "Name: ratio_to_poi, dtype: float64"
      ]
     },
     "execution_count": 50,
     "metadata": {},
     "output_type": "execute_result"
    }
   ],
   "source": [
    "### Ratio to poi\n",
    "average_ratio_to = enron.groupby('poi').mean()['ratio_to_poi']\n",
    "average_ratio_to"
   ]
  },
  {
   "cell_type": "code",
   "execution_count": 51,
   "metadata": {
    "collapsed": false
   },
   "outputs": [
    {
     "data": {
      "text/plain": [
       "<matplotlib.axes._subplots.AxesSubplot at 0xda8f240>"
      ]
     },
     "execution_count": 51,
     "metadata": {},
     "output_type": "execute_result"
    },
    {
     "data": {
      "image/png": "[encoded data removed]",
      "text/plain": [
       "<matplotlib.figure.Figure at 0xdc48940>"
      ]
     },
     "metadata": {},
     "output_type": "display_data"
    }
   ],
   "source": [
    "sns.boxplot(x='poi',y='ratio_to_poi',data= enron)"
   ]
  },
  {
   "cell_type": "code",
   "execution_count": 52,
   "metadata": {
    "collapsed": false
   },
   "outputs": [
    {
     "data": {
      "text/html": [
       "<div>\n",
       "<table border=\"1\" class=\"dataframe\">\n",
       "  <thead>\n",
       "    <tr style=\"text-align: right;\">\n",
       "      <th></th>\n",
       "      <th>name</th>\n",
       "      <th>salary</th>\n",
       "      <th>bonus</th>\n",
       "      <th>from_messages</th>\n",
       "      <th>poi</th>\n",
       "    </tr>\n",
       "  </thead>\n",
       "  <tbody>\n",
       "    <tr>\n",
       "      <th>4</th>\n",
       "      <td>HANNON KEVIN P</td>\n",
       "      <td>243293.0</td>\n",
       "      <td>1500000.0</td>\n",
       "      <td>32.0</td>\n",
       "      <td>True</td>\n",
       "    </tr>\n",
       "    <tr>\n",
       "      <th>10</th>\n",
       "      <td>HUMPHREY GENE E</td>\n",
       "      <td>130724.0</td>\n",
       "      <td>NaN</td>\n",
       "      <td>17.0</td>\n",
       "      <td>False</td>\n",
       "    </tr>\n",
       "    <tr>\n",
       "      <th>97</th>\n",
       "      <td>SHERRICK JEFFREY B</td>\n",
       "      <td>NaN</td>\n",
       "      <td>NaN</td>\n",
       "      <td>25.0</td>\n",
       "      <td>False</td>\n",
       "    </tr>\n",
       "    <tr>\n",
       "      <th>122</th>\n",
       "      <td>GARLAND C KEVIN</td>\n",
       "      <td>231946.0</td>\n",
       "      <td>850000.0</td>\n",
       "      <td>44.0</td>\n",
       "      <td>False</td>\n",
       "    </tr>\n",
       "  </tbody>\n",
       "</table>\n",
       "</div>"
      ],
      "text/plain": [
       "                   name    salary      bonus  from_messages    poi\n",
       "4        HANNON KEVIN P  243293.0  1500000.0           32.0   True\n",
       "10      HUMPHREY GENE E  130724.0        NaN           17.0  False\n",
       "97   SHERRICK JEFFREY B       NaN        NaN           25.0  False\n",
       "122     GARLAND C KEVIN  231946.0   850000.0           44.0  False"
      ]
     },
     "execution_count": 52,
     "metadata": {},
     "output_type": "execute_result"
    }
   ],
   "source": [
    "enron[(enron['ratio_to_poi']>0.6)][['name','salary', 'bonus', 'from_messages','poi']]"
   ]
  },
  {
   "cell_type": "code",
   "execution_count": 53,
   "metadata": {
    "collapsed": false
   },
   "outputs": [
    {
     "data": {
      "text/plain": [
       "poi\n",
       "False    0.036107\n",
       "True     0.047507\n",
       "Name: ratio_from_poi, dtype: float64"
      ]
     },
     "execution_count": 53,
     "metadata": {},
     "output_type": "execute_result"
    }
   ],
   "source": [
    "### Ratio from poi\n",
    "average_ratio_from = enron.groupby('poi').mean()['ratio_from_poi']\n",
    "average_ratio_from"
   ]
  },
  {
   "cell_type": "code",
   "execution_count": 54,
   "metadata": {
    "collapsed": false
   },
   "outputs": [
    {
     "data": {
      "text/plain": [
       "<matplotlib.axes._subplots.AxesSubplot at 0xde76e48>"
      ]
     },
     "execution_count": 54,
     "metadata": {},
     "output_type": "execute_result"
    },
    {
     "data": {
      "image/png": "[encoded data removed]",
      "text/plain": [
       "<matplotlib.figure.Figure at 0xde814e0>"
      ]
     },
     "metadata": {},
     "output_type": "display_data"
    }
   ],
   "source": [
    "sns.boxplot(x='poi',y='ratio_from_poi',data= enron)"
   ]
  },
  {
   "cell_type": "code",
   "execution_count": 59,
   "metadata": {
    "collapsed": false
   },
   "outputs": [
    {
     "data": {
      "text/html": [
       "<div>\n",
       "<table border=\"1\" class=\"dataframe\">\n",
       "  <thead>\n",
       "    <tr style=\"text-align: right;\">\n",
       "      <th></th>\n",
       "      <th>name</th>\n",
       "      <th>salary</th>\n",
       "      <th>bonus</th>\n",
       "      <th>from_messages</th>\n",
       "      <th>poi</th>\n",
       "      <th>ratio_from_poi</th>\n",
       "    </tr>\n",
       "  </thead>\n",
       "  <tbody>\n",
       "    <tr>\n",
       "      <th>11</th>\n",
       "      <td>UMANOFF ADAM S</td>\n",
       "      <td>288589.0</td>\n",
       "      <td>788750.0</td>\n",
       "      <td>18.0</td>\n",
       "      <td>False</td>\n",
       "      <td>0.108108</td>\n",
       "    </tr>\n",
       "    <tr>\n",
       "      <th>16</th>\n",
       "      <td>COLWELL WESLEY</td>\n",
       "      <td>288542.0</td>\n",
       "      <td>1200000.0</td>\n",
       "      <td>40.0</td>\n",
       "      <td>True</td>\n",
       "      <td>0.136519</td>\n",
       "    </tr>\n",
       "    <tr>\n",
       "      <th>55</th>\n",
       "      <td>DEFFNER JOSEPH M</td>\n",
       "      <td>206121.0</td>\n",
       "      <td>600000.0</td>\n",
       "      <td>74.0</td>\n",
       "      <td>False</td>\n",
       "      <td>0.161064</td>\n",
       "    </tr>\n",
       "    <tr>\n",
       "      <th>80</th>\n",
       "      <td>REDMOND BRIAN L</td>\n",
       "      <td>96840.0</td>\n",
       "      <td>NaN</td>\n",
       "      <td>221.0</td>\n",
       "      <td>False</td>\n",
       "      <td>0.122083</td>\n",
       "    </tr>\n",
       "    <tr>\n",
       "      <th>83</th>\n",
       "      <td>DURAN WILLIAM D</td>\n",
       "      <td>210692.0</td>\n",
       "      <td>750000.0</td>\n",
       "      <td>12.0</td>\n",
       "      <td>False</td>\n",
       "      <td>0.117257</td>\n",
       "    </tr>\n",
       "    <tr>\n",
       "      <th>126</th>\n",
       "      <td>DIETRICH JANET R</td>\n",
       "      <td>250100.0</td>\n",
       "      <td>600000.0</td>\n",
       "      <td>63.0</td>\n",
       "      <td>False</td>\n",
       "      <td>0.118585</td>\n",
       "    </tr>\n",
       "    <tr>\n",
       "      <th>143</th>\n",
       "      <td>DONAHUE JR JEFFREY M</td>\n",
       "      <td>278601.0</td>\n",
       "      <td>800000.0</td>\n",
       "      <td>22.0</td>\n",
       "      <td>False</td>\n",
       "      <td>0.217341</td>\n",
       "    </tr>\n",
       "  </tbody>\n",
       "</table>\n",
       "</div>"
      ],
      "text/plain": [
       "                     name    salary      bonus  from_messages    poi  \\\n",
       "11         UMANOFF ADAM S  288589.0   788750.0           18.0  False   \n",
       "16         COLWELL WESLEY  288542.0  1200000.0           40.0   True   \n",
       "55       DEFFNER JOSEPH M  206121.0   600000.0           74.0  False   \n",
       "80        REDMOND BRIAN L   96840.0        NaN          221.0  False   \n",
       "83        DURAN WILLIAM D  210692.0   750000.0           12.0  False   \n",
       "126      DIETRICH JANET R  250100.0   600000.0           63.0  False   \n",
       "143  DONAHUE JR JEFFREY M  278601.0   800000.0           22.0  False   \n",
       "\n",
       "     ratio_from_poi  \n",
       "11         0.108108  \n",
       "16         0.136519  \n",
       "55         0.161064  \n",
       "80         0.122083  \n",
       "83         0.117257  \n",
       "126        0.118585  \n",
       "143        0.217341  "
      ]
     },
     "execution_count": 59,
     "metadata": {},
     "output_type": "execute_result"
    }
   ],
   "source": [
    "enron[(enron['ratio_from_poi']>0.10)][['name','salary', 'bonus', 'from_messages','poi','ratio_from_poi']]"
   ]
  },
  {
   "cell_type": "code",
   "execution_count": 55,
   "metadata": {
    "collapsed": false
   },
   "outputs": [
    {
     "name": "stderr",
     "output_type": "stream",
     "text": [
      "C:\\ProgramData\\Anaconda2\\lib\\site-packages\\statsmodels\\nonparametric\\kde.py:454: RuntimeWarning: invalid value encountered in greater\n",
      "  X = X[np.logical_and(X>clip[0], X<clip[1])] # won't work for two columns.\n",
      "C:\\ProgramData\\Anaconda2\\lib\\site-packages\\statsmodels\\nonparametric\\kde.py:454: RuntimeWarning: invalid value encountered in less\n",
      "  X = X[np.logical_and(X>clip[0], X<clip[1])] # won't work for two columns.\n"
     ]
    },
    {
     "data": {
      "image/png": "[encoded data removed]",
      "text/plain": [
       "<matplotlib.figure.Figure at 0xe0930f0>"
      ]
     },
     "metadata": {},
     "output_type": "display_data"
    }
   ],
   "source": [
    "sns.set(style=\"ticks\", color_codes=True)\n",
    "g = sns.pairplot(enron, vars=['bonus','exercised_stock_options', 'salary','from_messages','ratio_to_poi'],\n",
    "                 dropna=True, diag_kind='kde', hue='poi', markers=['x','o'])"
   ]
  },
  {
   "cell_type": "code",
   "execution_count": null,
   "metadata": {
    "collapsed": true
   },
   "outputs": [],
   "source": []
  },
  {
   "cell_type": "code",
   "execution_count": 56,
   "metadata": {
    "collapsed": false
   },
   "outputs": [
    {
     "data": {
      "text/plain": [
       "<matplotlib.text.Text at 0x11185ba8>"
      ]
     },
     "execution_count": 56,
     "metadata": {},
     "output_type": "execute_result"
    },
    {
     "data": {
      "image/png": "[encoded data removed]",
      "text/plain": [
       "<matplotlib.figure.Figure at 0xeec5f98>"
      ]
     },
     "metadata": {},
     "output_type": "display_data"
    }
   ],
   "source": [
    "sns.lmplot(x='bonus', y= 'salary', hue='poi', data=enron, palette='Set1',size=10,markers=['x','o'])\n",
    "plt.title('Salary/Bonus for POI and non-POI', fontsize=18)\n",
    "plt.xlabel('bonus', fontsize=16)\n",
    "plt.ylabel('salary', fontsize=16)"
   ]
  },
  {
   "cell_type": "markdown",
   "metadata": {
    "collapsed": true
   },
   "source": [
    "### First confirmations\n",
    "Based on this exploration, it seems to me important to analyse either financial categories as well as mail behaviour categories.\n",
    "The following categories will be used :\n",
    "'name','salary','bonus','exercised_stock_options', 'ratio_from_poi', 'ratio_to_poi'.\n"
   ]
  },
  {
   "cell_type": "markdown",
   "metadata": {},
   "source": [
    "### Next step : \n",
    "let's confirm it via poi_id.py where I will investigate the feature to use, then apply algorythm and validate this study."
   ]
  },
  {
   "cell_type": "markdown",
   "metadata": {},
   "source": [
    "# Performance and Validation"
   ]
  },
  {
   "cell_type": "markdown",
   "metadata": {
    "collapsed": true
   },
   "source": [
    "## Speaking about features scaling\n",
    "Scaling feature is necessary when within a feature the values have a huge amplitude, a different scale in that sens. Thus in order to be able to compare more correctely the feature values, in a kind of standardization, it can be necessary to rescale the feature.\n",
    "Then a mathematics way to proceed is to define a new value based on the min and max values.\n",
    "new_val = (val - min_val)/(max_val - min_val).\n",
    "\n",
    "Also another important point is that there is a need of having feature with a trade of between the variable. So only few model can be affected by scaling such as SVM and K-means.\n",
    "\n",
    "As I will not use this model I don't see any reason to use scaling in the model and feature I use, nevetheless I'll implement a scaler in the Feature selection (see my_clf_run.py / def Kbest)."
   ]
  },
  {
   "cell_type": "markdown",
   "metadata": {},
   "source": [
    "## Features Selection"
   ]
  },
  {
   "cell_type": "markdown",
   "metadata": {},
   "source": [
    "feature selection is a step in the full process that you use to reduce your dataset dimensionnal in order to either improve estimator accuracy or improve their performance.\n",
    "Initiali, inoorder to use kind of intuition, selected features is based on the analysis (first step done) as they were demonstrating strong difference between POI and non-POI.\n",
    "\n",
    "I improve the selection using sklearn.\n",
    "To do so, I choose to use an univariate feature selection and implement SelectKBest. SelectPercentil could also be a solution.\n",
    "Then I implement SelectKbest and try to find the 5 best features out of the dataset including the added features."
   ]
  },
  {
   "cell_type": "raw",
   "metadata": {},
   "source": [
    "==============================================\n",
    "The KBest Features are:\n",
    "[('ratio_to_poi', '4.43', '0.035'), ('bonus', '4.90', '0.027'), ('total_stock_value', '5.28', '0.022'), ('loan_advances', '6.53', '0.011'), ('exercised_stock_options', '6.61', '0.010')]"
   ]
  },
  {
   "cell_type": "markdown",
   "metadata": {},
   "source": [
    "This will be the feature for our last classifier."
   ]
  },
  {
   "cell_type": "markdown",
   "metadata": {},
   "source": [
    "## what it means to perform parameter tuning and why it is important"
   ]
  },
  {
   "cell_type": "markdown",
   "metadata": {},
   "source": [
    "The aim of tuning parameter is to get the best of a model.\n",
    "It could be done in a kind of manual manner, which is then an iterative process by simply varying the differents parameter we have in the model (size, gamma, ...).\n",
    "Also Crossvalidation can be use to do it in a more automatic way.\n",
    "In Sklearn, the GridSearchCV is the one that can work trough different combinaison of paramter. So doing the tunning automaticaly and then determine which tune gives the best performance.\n",
    "\n",
    "As an exemple, when manualy tunning the size of the test set for my Naive_bayse model I obtained the following results:\n",
    "The result of the tunning is: "
   ]
  },
  {
   "cell_type": "raw",
   "metadata": {},
   "source": [
    "   Size  accuracy  Precision    Recall\n",
    "0   0.1  0.900000       1.00  0.500000\n",
    "1   0.2  0.842105       0.50  0.333333\n",
    "2   0.3  0.689655       0.25  0.142857\n",
    "3   0.4  0.736842       0.25  0.125000\n",
    "4   0.5  0.787234       0.00  0.000000\n",
    "5   0.6  0.754386       0.00  0.000000\n",
    "6   0.7  0.772727       0.00  0.000000\n",
    "7   0.8  0.802632       0.00  0.000000\n",
    "8   0.9  0.811765       0.00  0.000000\n"
   ]
  },
  {
   "cell_type": "markdown",
   "metadata": {},
   "source": [
    "Which lead me to use a 0.2 size to fit the expected 0.3 Precision.\n",
    "As my precision and my recall are not so good for this size, this meant the model will certainely flag wrongly, nevertheless the accuracy is quite high so it should not be that bad.\n",
    "\n",
    "As a reminder Recall and Precision help understanding the performance of the model used.\n",
    "Precision is the ratio demonstrating the ability of the classifier not to label as positive a sample that is negative.\n",
    "Recall is the ratio demonstrating the ability of the classifier to find the all positive samples. "
   ]
  },
  {
   "cell_type": "markdown",
   "metadata": {},
   "source": [
    "I put in place a second Tuning using GridSearchCV with the model KNeighborsClassifier. This bring me the following best parameters:"
   ]
  },
  {
   "cell_type": "raw",
   "metadata": {},
   "source": [
    "The best estimator is :\n",
    "KNeighborsClassifier(algorithm='auto', leaf_size=1, metric='minkowski',\n",
    "           metric_params=None, n_jobs=1, n_neighbors=2, p=2,\n",
    "           weights='uniform')"
   ]
  },
  {
   "cell_type": "markdown",
   "metadata": {},
   "source": [
    "I will then use these parameters in my final classifier."
   ]
  },
  {
   "cell_type": "markdown",
   "metadata": {},
   "source": [
    "## Validation , Evaluation"
   ]
  },
  {
   "cell_type": "markdown",
   "metadata": {},
   "source": [
    "As the dataset is assymetric, there is lot more non-poi than poi, we will use a shufflesplit using the class StratifiedShuffleSplit from sklearn. The reason for that is that we want to measure the reliability and the accuracy of our model this is called the validation.\n",
    "Therefor we need to train it and then test it with different dataset. Training our algorythm with the full dataset will lead us to overfitting situation and prevent to really be able to rely on it. this is the why the validation is important as it imply a good quality of our tests.\n",
    "We also want to train and test with dataset that are not too assymetric in order to avoid any missleading testing. This is why I have used the StratifiedShuffleSplit class to split the dataset in order to have a training dataset that is respecting the repartion between poi & non-poi, so then the algorythm will be better train. \n",
    "\n",
    "This will then distribute with a better repartion of the data between train and test set. We will not use it with the naive bayse model as the effect will simply to level precision and recall.\n",
    "\n",
    "But we will use it for the two other models : DecisionTree and KNeighborsClassifier.\n"
   ]
  },
  {
   "cell_type": "raw",
   "metadata": {},
   "source": [
    "The result is: \n",
    "                        Model Feature Liste  accuracy  Precision  Recall\n",
    "0                    DT model  Feature_list  0.620690      0.125     0.2\n",
    "1                    DT model  features_all  0.857143      0.000     0.0\n",
    "2                    DT model    features_0  0.833333      0.250     0.2\n",
    "3                    DT model    features_1  0.846154      0.000     0.0\n",
    "4  KNeighborsClassifier model  Feature_list  0.758621      0.250     0.2\n",
    "5  KNeighborsClassifier model  features_all  0.904762      1.000     0.2\n",
    "6  KNeighborsClassifier model    features_0  0.904762      1.000     0.2\n",
    "7  KNeighborsClassifier model    features_1  0.871795      0.500     0.2"
   ]
  },
  {
   "cell_type": "markdown",
   "metadata": {},
   "source": [
    "Looking at the perofmance of the models, we clearly keep the KNeighborsClassifier as with a 93% accuracy this is much more better than the Decisiontree. Adding to the fact that the precision and recall are clearly higher as well."
   ]
  },
  {
   "cell_type": "markdown",
   "metadata": {},
   "source": [
    "Even if the table above display better accuracy and precision for the full list of feature or list without added feature our final list will be the one named Feature_1 that correspond to the list we identified above. And we keep the classifier KNeighborsClassifier."
   ]
  },
  {
   "cell_type": "markdown",
   "metadata": {},
   "source": [
    "# Final word"
   ]
  },
  {
   "cell_type": "markdown",
   "metadata": {},
   "source": [
    "Surprisingly, using the 5 best features did not bring the best result, but strong one anyway.  Nevertheless the algorythm is providing good results with 87% of accuracy and 50% precision and 20% Recall.\n",
    "So may be we will not flag a Poi but as well not to flag POI a Non_poi. And this is clearly what we expect in our case to avoid investigation on an innoncent.\n",
    " "
   ]
  },
  {
   "cell_type": "code",
   "execution_count": null,
   "metadata": {
    "collapsed": true
   },
   "outputs": [],
   "source": []
  }
 ],
 "metadata": {
  "kernelspec": {
   "display_name": "Python 2",
   "language": "python",
   "name": "python2"
  },
  "language_info": {
   "codemirror_mode": {
    "name": "ipython",
    "version": 2
   },
   "file_extension": ".py",
   "mimetype": "text/x-python",
   "name": "python",
   "nbconvert_exporter": "python",
   "pygments_lexer": "ipython2",
   "version": "2.7.13"
  }
 },
 "nbformat": 4,
 "nbformat_minor": 2
}
